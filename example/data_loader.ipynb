{
 "cells": [
  {
   "cell_type": "code",
   "execution_count": 1,
   "metadata": {
    "collapsed": false
   },
   "outputs": [],
   "source": [
    "%load_ext autoreload\n",
    "%autoreload 2\n",
    "import sys\n",
    "sys.path.append(\"..\")\n",
    "from data_loader import PuncDataset, get_loader"
   ]
  },
  {
   "cell_type": "code",
   "execution_count": 2,
   "metadata": {
    "collapsed": false
   },
   "outputs": [],
   "source": [
    "punc_dataset = PuncDataset('train', 'vocab', 'punc_vocab')"
   ]
  },
  {
   "cell_type": "code",
   "execution_count": 3,
   "metadata": {
    "collapsed": false
   },
   "outputs": [
    {
     "name": "stdout",
     "output_type": "stream",
     "text": [
      "{'？': 3, ' ': 0, '！': 4, '。': 2, '，': 1}\n",
      "{'中国': 32, '会': 73, '期': 91, '用': 33, '时候': 72, '之': 61, '都': 88, '没有': 45, '与': 9, '于': 28, '说': 53, '日': 54, '们': 36, '其': 41, '你': 63, '所以': 67, '孩子': 93, '可': 81, '可以': 25, '学生': 80, '时间': 49, '她': 68, '中': 10, '企业': 76, '以': 23, '后': 22, '但': 58, '去': 65, '如': 96, '它': 99, '自己': 39, '是': 6, '但是': 94, '生活': 62, '个': 34, '点': 101, '有': 11, '公司': 57, '一': 59, '一个': 20, '着': 42, '元': 74, '及': 29, '还是': 85, '进行': 44, '<UNK>': 0, '对': 19, '观点': 77, '就是': 47, '性': 78, '通过': 86, '不': 40, '吧': 90, '要': 56, '也': 43, '来': 30, '他': 38, '被': 48, '自己的': 83, '<END>': 1, '发展': 64, '代表': 52, '将': 37, '而': 26, '工作': 46, '或': 17, '我': 21, '我们': 16, '使用': 87, '时': 15, '评论': 71, '为': 8, '这个': 66, '和': 3, '人': 13, '从': 35, '问题': 70, '了': 4, '的': 2, '他们': 92, '如果': 50, '把': 69, '小': 98, '月': 24, '地': 27, '大': 75, '在': 5, '就': 84, '上': 18, '下': 60, '者': 79, '因为': 55, '一种': 100, '并': 51, '多': 89, '到': 14, '等': 12, '服务': 95, '年': 7, '里': 31, '由': 82, '技术': 97}\n",
      "300\n"
     ]
    }
   ],
   "source": [
    "print(punc_dataset.punc2id)\n",
    "print(punc_dataset.word2id)\n",
    "print(len(punc_dataset))"
   ]
  },
  {
   "cell_type": "code",
   "execution_count": 5,
   "metadata": {
    "collapsed": false
   },
   "outputs": [
    {
     "name": "stdout",
     "output_type": "stream",
     "text": [
      "[ 0  0  0 55  0  0  0  0  0 55  0  0  0  2  0  0  0  0  0  0  0 99  0  0  0\n",
      "  0  0  0  0  0  0  0  0  0  0  0  0  0  0  0 63  0  0  5  0  0  0 20 21  0\n",
      "  0  0  0 36  0  2  0  0  0  0  0  0  0  0  0  0  0  3  0  2 93 68  0  0  0\n",
      "  0  0  0  0  0  0  0  0  0  0  2  0  0  0  5  0 31  0  0  0  0  0  2  0  0\n",
      "  0  0  0 83  0 22  0  0  0  0 62 31  0  0  0  0  0  0  0  0 68  0  0  0  2\n",
      " 62  0  0  0  0  0  0  0  0  2  0  0 94 68  0  0  0 66  0  0  0  0  0  0  2\n",
      "  0  0  0  0  3  0 94  0  0  0  0  0  0  0 56  0 93  0  0  0  0  0  0 43  0\n",
      " 68 68  0  0  0  0  0  0  0  0  0  0  0  0  0  0 68  0  4  0 20  0  0  0  0\n",
      "  0 98  0  0  0  0 30  0  0  0  0  0  0  0  2  0  0  0  1]\n",
      "[0 0 0 2 0 0 0 1 0 1 0 0 0 0 0 1 0 0 1 0 0 1 0 0 0 2 0 0 0 0 0 0 0 0 0 0 0\n",
      " 0 0 0 0 0 0 1 0 0 0 0 0 2 0 0 0 0 0 0 0 0 1 0 0 0 1 0 0 0 0 0 0 0 0 2 0 0\n",
      " 0 1 0 1 1 0 0 2 0 0 0 0 0 0 1 0 0 0 0 0 0 0 0 0 0 1 0 0 2 0 0 0 1 0 0 0 0\n",
      " 0 1 0 0 0 0 1 0 0 0 0 0 0 0 0 2 0 0 0 0 0 0 1 0 0 0 2 0 0 0 0 0 0 1 0 0 1\n",
      " 0 0 0 0 0 0 0 0 2 0 0 0 1 0 0 1 0 0 0 0 0 1 0 0 1 0 0 0 1 0 0 3 0 0 0 0 0\n",
      " 0 0 0 0 0 0 1 0 0 0 0 0 1 0 1 0 0 0 1 0 0 0 1 1 0 1 0 0 1 0 0 0 0 2]\n",
      "[ 5  0  0  0 15  0  0  0  0  0  0  0  0 15  0 37  0  0  0  0  0  0  0  0  0\n",
      "  2  0  0  0  0  0 25  0  0  0  0  8  0  0 25 86  0  0  0  0  0  0  0  0  0\n",
      "  0  0  0  0  0 15  0  0  0  0  0 15  0  0  0  0  2  0  0  0  0  0  0  0  0\n",
      " 17  0  0  0  2  0  0  0  0  0  0 17  0  0  0  2  0 50  0  0  0  2  0  0  0\n",
      "  0  0  0  0  0  0  0  0  0  0  0  0  0  0  0  0  0  0  0  0  0  0  0  0  5\n",
      "  0  0  0  0  0  0  0  0  0  2  0 10  0  0  0  2  0  0  0  0  0  0  0  0 60\n",
      "  0  0  0  2  0  3  0  1]\n",
      "[0 0 0 0 0 1 0 0 0 0 0 0 0 0 1 0 0 0 0 0 0 0 0 0 0 0 0 2 0 0 0 0 0 0 2 0 0\n",
      " 0 0 1 0 0 0 0 0 0 0 0 0 2 0 0 0 0 0 0 0 1 0 0 0 0 1 0 0 0 0 0 0 0 2 0 0 0\n",
      " 0 0 0 0 0 0 0 0 0 1 0 0 0 0 0 0 0 0 2 0 0 0 0 0 0 0 0 0 1 0 0 0 0 0 1 0 0\n",
      " 0 0 0 0 0 0 2 0 0 0 0 0 0 0 0 0 0 0 1 0 0 0 0 0 0 0 0 2 0 0 0 0 0 0 0 0 0\n",
      " 0 0 0 0 0 0 0 0 0 2]\n",
      "[ 0  0  0  0  0  0  0  0  0  0  5  0  0 10  0  0  0  0  0 96  0  0  0  0  0\n",
      "  0  0  0  0  0  0 12 96  0  0  0  0  0  0  0  0  0  0  0  0  0  0  0  0  0\n",
      "  0  0  0  0  0  0  0  0  0  0  0  2  0 26  0  0  0  0 19  0  2  0 17  0 78\n",
      "  0  0  0  0  0  6  0  0  0  2  0 30  0  2  0  0  0  0 30  0  0  0  0  0  0\n",
      "  0  0  6  0  0  0  0  0  0  0 61  0  0  0  0 81  0  8  0  0  0  0  0  0  0\n",
      "  0  0  0  2  0  0  0  0  0 44  0  0  0  0  0  0  0  0  0 29  0  0  0  0  0\n",
      "  0 91  0  0  0  0  0  0 23  0  0  0  0  0  0 10  0  0  0  0  0  5  0 18  0\n",
      "  0  0 19  0  0  0  0  0  2  0  0  0  0  0  0 29  0  2  0  0  0  0  0  0  0\n",
      "  0  0  0  0  0  0  0  0  0  0  0  0  0  0  0  0  0  0  0  0  0  0  1]\n",
      "[0 0 0 0 1 0 0 0 0 0 1 0 0 0 0 0 0 0 0 1 0 1 1 1 1 0 1 0 0 1 0 0 1 0 0 0 1\n",
      " 0 0 0 1 0 0 1 0 0 1 0 0 1 0 0 0 1 0 0 0 0 2 0 0 0 0 0 0 1 0 0 0 0 0 0 0 0\n",
      " 0 0 0 0 0 2 0 0 0 0 0 0 0 0 0 1 0 0 0 0 0 0 2 0 0 1 0 0 0 0 0 1 0 2 0 0 0\n",
      " 0 0 1 0 0 0 0 0 0 0 0 1 0 0 1 0 0 0 0 0 0 0 2 0 0 1 0 0 0 0 2 0 0 0 0 0 0\n",
      " 0 2 0 0 1 0 0 0 0 0 1 0 0 0 0 2 0 0 0 0 0 0 0 2 0 0 0 0 1 0 0 0 0 0 0 0 2\n",
      " 0 0 0 1 0 0 0 0 0 1 0 0 0 0 0 0 0 0 0 0 0 0 0 0 0 0 0 0 0 0 0 0 0 0 0 0 0\n",
      " 2]\n"
     ]
    }
   ],
   "source": [
    "for i in range(3):\n",
    "    print(punc_dataset[i][0])\n",
    "    print(punc_dataset[i][1])"
   ]
  },
  {
   "cell_type": "code",
   "execution_count": 5,
   "metadata": {
    "collapsed": false
   },
   "outputs": [],
   "source": [
    "data_loader = get_loader('example/train', 'example/vocab', 'example/punc_vocab', batch_size=10)"
   ]
  },
  {
   "cell_type": "code",
   "execution_count": 6,
   "metadata": {
    "collapsed": false
   },
   "outputs": [
    {
     "name": "stdout",
     "output_type": "stream",
     "text": [
      "30\n"
     ]
    }
   ],
   "source": [
    "print(len(data_loader))\n",
    "data_iter = iter(data_loader)\n",
    "inputs, labels, lengths = next(data_iter)"
   ]
  },
  {
   "cell_type": "code",
   "execution_count": 7,
   "metadata": {
    "collapsed": false
   },
   "outputs": [
    {
     "name": "stdout",
     "output_type": "stream",
     "text": [
      "[[ 7 24  0 ...,  0  4  1]\n",
      " [ 0  0  0 ...,  0  0  0]\n",
      " [ 0  0  0 ...,  0  0  0]\n",
      " ..., \n",
      " [82  0  0 ...,  0  0  0]\n",
      " [ 0  0  0 ...,  0  0  0]\n",
      " [ 0  0  0 ...,  0  0  0]]\n",
      "[[0 0 0 ..., 0 0 2]\n",
      " [0 0 0 ..., 0 0 0]\n",
      " [0 0 0 ..., 0 0 0]\n",
      " ..., \n",
      " [0 0 0 ..., 0 0 0]\n",
      " [0 0 0 ..., 0 0 0]\n",
      " [0 0 1 ..., 0 0 0]]\n",
      "[394, 132, 107, 85, 67, 42, 39, 31, 16, 7]\n"
     ]
    }
   ],
   "source": [
    "print(inputs.numpy())\n",
    "print(labels.numpy())\n",
    "print(lengths)"
   ]
  },
  {
   "cell_type": "code",
   "execution_count": 8,
   "metadata": {
    "collapsed": false
   },
   "outputs": [
    {
     "name": "stdout",
     "output_type": "stream",
     "text": [
      "6\n",
      "[[33754    20 26327 ..., 91513  2860     1]\n",
      " [  306 18152  6461 ...,     0     0     0]\n",
      " [ 1646    13  1822 ...,     0     0     0]\n",
      " ..., \n",
      " [22619   269   438 ...,     0     0     0]\n",
      " [57205     2  2306 ...,     0     0     0]\n",
      " [  370 12965  7839 ...,     0     0     0]]\n",
      "[[0 0 0 ..., 0 0 2]\n",
      " [0 0 0 ..., 0 0 0]\n",
      " [0 0 0 ..., 0 0 0]\n",
      " ..., \n",
      " [0 0 0 ..., 0 0 0]\n",
      " [0 0 0 ..., 0 0 0]\n",
      " [0 0 0 ..., 0 0 0]]\n",
      "[422, 417, 404, 394, 381, 350, 327, 279, 273, 269, 234, 230, 212, 208, 200, 193, 164, 136, 127, 117, 110, 108, 94, 90, 89, 67, 65, 65, 47, 43, 38, 36, 29, 27, 27, 25, 21, 20, 19, 19, 17, 14, 10, 8, 8, 8, 7, 6, 5, 4]\n",
      "0 [26417   989 18840  6823  1111]\n",
      "1 [ 3515 10528  1150  1423  8722]\n",
      "2 [  972 21823   833  4264 10639]\n",
      "3 [  202   123 41713    58  1157]\n",
      "4 [  306 18152  6461   483 37541]\n",
      "5 [ 1946   524  5223  8769 20212]\n",
      "0 [ 1946   524  5223  8769 20212]\n",
      "1 [  202   123 41713    58  1157]\n",
      "2 [26417   989 18840  6823  1111]\n",
      "3 [  19  577 4800   16 2403]\n",
      "4 [  972 21823   833  4264 10639]\n",
      "5 [ 2501    84 20637  2177  1211]\n"
     ]
    }
   ],
   "source": [
    "import numpy as np\n",
    "np.set_printoptions(suppress=True)\n",
    "\n",
    "data_loader = get_loader('example/train', 'example/vocab.10W', 'example/punc_vocab', batch_size=50)\n",
    "print(len(data_loader))\n",
    "data_iter = iter(data_loader)\n",
    "inputs, labels, lengths = next(data_iter)\n",
    "print(inputs.numpy())\n",
    "print(labels.numpy())\n",
    "print(lengths)\n",
    "for epoch in range(2):\n",
    "    for i, data in enumerate(data_loader):\n",
    "        print(i, data[0].numpy()[0][:5])"
   ]
  },
  {
   "cell_type": "code",
   "execution_count": null,
   "metadata": {
    "collapsed": true
   },
   "outputs": [],
   "source": []
  }
 ],
 "metadata": {
  "anaconda-cloud": {},
  "kernelspec": {
   "display_name": "Python [conda root]",
   "language": "python",
   "name": "conda-root-py"
  },
  "language_info": {
   "codemirror_mode": {
    "name": "ipython",
    "version": 3
   },
   "file_extension": ".py",
   "mimetype": "text/x-python",
   "name": "python",
   "nbconvert_exporter": "python",
   "pygments_lexer": "ipython3",
   "version": "3.5.2"
  }
 },
 "nbformat": 4,
 "nbformat_minor": 1
}
