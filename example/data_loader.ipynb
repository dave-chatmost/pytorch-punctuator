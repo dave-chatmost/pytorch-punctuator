{
 "cells": [
  {
   "cell_type": "code",
   "execution_count": 1,
   "metadata": {
    "collapsed": false
   },
   "outputs": [],
   "source": [
    "%load_ext autoreload\n",
    "%autoreload 2\n",
    "from data_loader import PuncDataset, get_loader"
   ]
  },
  {
   "cell_type": "code",
   "execution_count": 2,
   "metadata": {
    "collapsed": false
   },
   "outputs": [],
   "source": [
    "punc_dataset = PuncDataset('example/train', 'example/vocab', 'example/punc_vocab')"
   ]
  },
  {
   "cell_type": "code",
   "execution_count": 3,
   "metadata": {
    "collapsed": false
   },
   "outputs": [
    {
     "name": "stdout",
     "output_type": "stream",
     "text": [
      "{' ': 0, '！': 4, '，': 1, '？': 3, '。': 2}\n",
      "{'时间': 49, '者': 79, '就是': 47, '评论': 71, '他们': 92, '公司': 57, '会': 73, '是': 6, '但': 58, '来': 30, '把': 69, '我们': 16, '对': 19, '大': 75, '以': 23, '去': 65, '通过': 86, '如果': 50, '于': 28, '要': 56, '与': 9, '了': 4, '发展': 64, '没有': 45, '它': 99, '技术': 97, '由': 82, '企业': 76, '下': 60, '孩子': 93, '问题': 70, '就': 84, '他': 38, '生活': 62, '点': 101, '里': 31, '后': 22, '或': 17, '小': 98, '代表': 52, '服务': 95, '上': 18, '有': 11, '我': 21, '用': 33, '观点': 77, '等': 12, '一种': 100, '地': 27, '年': 7, '中国': 32, '性': 78, '可': 81, '元': 74, '从': 35, '将': 37, '们': 36, '多': 89, '被': 48, '的': 2, '并': 51, '都': 88, '吧': 90, '不': 40, '一个': 20, '她': 68, '时候': 72, '期': 91, '<END>': 1, '月': 24, '一': 59, '工作': 46, '可以': 25, '自己的': 83, '所以': 67, '为': 8, '着': 42, '中': 10, '其': 41, '及': 29, '自己': 39, '说': 53, '也': 43, '你': 63, '因为': 55, '在': 5, '之': 61, '还是': 85, '时': 15, '日': 54, '而': 26, '但是': 94, '到': 14, '进行': 44, '学生': 80, '这个': 66, '<UNK>': 0, '个': 34, '如': 96, '使用': 87, '人': 13, '和': 3}\n",
      "300\n"
     ]
    }
   ],
   "source": [
    "print(punc_dataset.punc2id)\n",
    "print(punc_dataset.word2id)\n",
    "print(len(punc_dataset))"
   ]
  },
  {
   "cell_type": "code",
   "execution_count": 4,
   "metadata": {
    "collapsed": false
   },
   "outputs": [
    {
     "name": "stdout",
     "output_type": "stream",
     "text": [
      "[  0.   0.   0.  55.   0.   0.   0.   0.   0.  55.   0.   0.   0.   2.   0.]\n",
      "[ 0.  0.  0.  2.  0.  0.  0.  1.  0.  1.  0.  0.  0.  0.  0.]\n",
      "[  5.   0.   0.   0.  15.   0.   0.   0.   0.   0.   0.   0.   0.  15.   0.]\n",
      "[ 0.  0.  0.  0.  0.  1.  0.  0.  0.  0.  0.  0.  0.  0.  1.]\n",
      "[  0.   0.   0.   0.   0.   0.   0.   0.   0.   0.   5.   0.   0.  10.   0.]\n",
      "[ 0.  0.  0.  0.  1.  0.  0.  0.  0.  0.  1.  0.  0.  0.  0.]\n"
     ]
    }
   ],
   "source": [
    "for i in range(3):\n",
    "    print(punc_dataset[i][0].numpy()[:15])\n",
    "    print(punc_dataset[i][1].numpy()[:15])"
   ]
  },
  {
   "cell_type": "code",
   "execution_count": 5,
   "metadata": {
    "collapsed": false
   },
   "outputs": [],
   "source": [
    "data_loader = get_loader('example/train', 'example/vocab', 'example/punc_vocab', batch_size=10)"
   ]
  },
  {
   "cell_type": "code",
   "execution_count": 6,
   "metadata": {
    "collapsed": false
   },
   "outputs": [
    {
     "name": "stdout",
     "output_type": "stream",
     "text": [
      "30\n"
     ]
    }
   ],
   "source": [
    "print(len(data_loader))\n",
    "data_iter = iter(data_loader)\n",
    "inputs, labels, lengths = next(data_iter)"
   ]
  },
  {
   "cell_type": "code",
   "execution_count": 7,
   "metadata": {
    "collapsed": false
   },
   "outputs": [
    {
     "name": "stdout",
     "output_type": "stream",
     "text": [
      "[[ 7 24  0 ...,  0  4  1]\n",
      " [ 0  0  0 ...,  0  0  0]\n",
      " [ 0  0  0 ...,  0  0  0]\n",
      " ..., \n",
      " [82  0  0 ...,  0  0  0]\n",
      " [ 0  0  0 ...,  0  0  0]\n",
      " [ 0  0  0 ...,  0  0  0]]\n",
      "[[0 0 0 ..., 0 0 2]\n",
      " [0 0 0 ..., 0 0 0]\n",
      " [0 0 0 ..., 0 0 0]\n",
      " ..., \n",
      " [0 0 0 ..., 0 0 0]\n",
      " [0 0 0 ..., 0 0 0]\n",
      " [0 0 1 ..., 0 0 0]]\n",
      "[394, 132, 107, 85, 67, 42, 39, 31, 16, 7]\n"
     ]
    }
   ],
   "source": [
    "print(inputs.numpy())\n",
    "print(labels.numpy())\n",
    "print(lengths)"
   ]
  },
  {
   "cell_type": "code",
   "execution_count": 8,
   "metadata": {
    "collapsed": false
   },
   "outputs": [
    {
     "name": "stdout",
     "output_type": "stream",
     "text": [
      "6\n",
      "[[33754    20 26327 ..., 91513  2860     1]\n",
      " [  306 18152  6461 ...,     0     0     0]\n",
      " [ 1646    13  1822 ...,     0     0     0]\n",
      " ..., \n",
      " [22619   269   438 ...,     0     0     0]\n",
      " [57205     2  2306 ...,     0     0     0]\n",
      " [  370 12965  7839 ...,     0     0     0]]\n",
      "[[0 0 0 ..., 0 0 2]\n",
      " [0 0 0 ..., 0 0 0]\n",
      " [0 0 0 ..., 0 0 0]\n",
      " ..., \n",
      " [0 0 0 ..., 0 0 0]\n",
      " [0 0 0 ..., 0 0 0]\n",
      " [0 0 0 ..., 0 0 0]]\n",
      "[422, 417, 404, 394, 381, 350, 327, 279, 273, 269, 234, 230, 212, 208, 200, 193, 164, 136, 127, 117, 110, 108, 94, 90, 89, 67, 65, 65, 47, 43, 38, 36, 29, 27, 27, 25, 21, 20, 19, 19, 17, 14, 10, 8, 8, 8, 7, 6, 5, 4]\n",
      "0 [26417   989 18840  6823  1111]\n",
      "1 [ 3515 10528  1150  1423  8722]\n",
      "2 [  972 21823   833  4264 10639]\n",
      "3 [  202   123 41713    58  1157]\n",
      "4 [  306 18152  6461   483 37541]\n",
      "5 [ 1946   524  5223  8769 20212]\n",
      "0 [ 1946   524  5223  8769 20212]\n",
      "1 [  202   123 41713    58  1157]\n",
      "2 [26417   989 18840  6823  1111]\n",
      "3 [  19  577 4800   16 2403]\n",
      "4 [  972 21823   833  4264 10639]\n",
      "5 [ 2501    84 20637  2177  1211]\n"
     ]
    }
   ],
   "source": [
    "import numpy as np\n",
    "np.set_printoptions(suppress=True)\n",
    "\n",
    "data_loader = get_loader('example/train', 'example/vocab.10W', 'example/punc_vocab', batch_size=50)\n",
    "print(len(data_loader))\n",
    "data_iter = iter(data_loader)\n",
    "inputs, labels, lengths = next(data_iter)\n",
    "print(inputs.numpy())\n",
    "print(labels.numpy())\n",
    "print(lengths)\n",
    "for epoch in range(2):\n",
    "    for i, data in enumerate(data_loader):\n",
    "        print(i, data[0].numpy()[0][:5])"
   ]
  },
  {
   "cell_type": "code",
   "execution_count": null,
   "metadata": {
    "collapsed": true
   },
   "outputs": [],
   "source": []
  }
 ],
 "metadata": {
  "anaconda-cloud": {},
  "kernelspec": {
   "display_name": "Python [conda root]",
   "language": "python",
   "name": "conda-root-py"
  },
  "language_info": {
   "codemirror_mode": {
    "name": "ipython",
    "version": 3
   },
   "file_extension": ".py",
   "mimetype": "text/x-python",
   "name": "python",
   "nbconvert_exporter": "python",
   "pygments_lexer": "ipython3",
   "version": "3.5.2"
  }
 },
 "nbformat": 4,
 "nbformat_minor": 1
}
