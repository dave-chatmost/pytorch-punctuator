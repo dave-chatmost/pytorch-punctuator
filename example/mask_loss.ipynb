{
 "cells": [
  {
   "cell_type": "code",
   "execution_count": 1,
   "metadata": {
    "collapsed": false
   },
   "outputs": [],
   "source": [
    "%load_ext autoreload\n",
    "%autoreload 2\n",
    "import torch\n",
    "import torch.nn as nn\n",
    "from torch.autograd import Variable"
   ]
  },
  {
   "cell_type": "code",
   "execution_count": 2,
   "metadata": {
    "collapsed": false
   },
   "outputs": [
    {
     "name": "stdout",
     "output_type": "stream",
     "text": [
      "Variable containing:\n",
      " 0.8280  1.1807 -0.2163  0.6335  1.3155\n",
      " 0.5404 -0.7312  0.1884  0.6572 -1.1073\n",
      " 1.2333 -0.6090 -0.2421 -1.6629  0.2401\n",
      "-2.0566 -0.1193  0.9838 -0.5705 -0.7263\n",
      " 0.8247  0.5482  1.0635  0.5820 -0.8358\n",
      "-0.5276 -1.4687  2.2104  2.3313 -0.1632\n",
      "[torch.FloatTensor of size 6x5]\n",
      "\n",
      "Variable containing:\n",
      " 1.6537  1.3010  2.6980  1.8482  1.1662\n",
      " 1.1939  2.4656  1.5459  1.0771  2.8417\n",
      " 0.5948  2.4372  2.0703  3.4911  1.5881\n",
      " 3.6124  1.6751  0.5720  2.1263  2.2821\n",
      " 1.3870  1.6635  1.1481  1.6297  3.0474\n",
      " 3.5759  4.5170  0.8379  0.7171  3.2115\n",
      "[torch.FloatTensor of size 6x5]\n",
      "\n",
      "Variable containing:\n",
      " 0\n",
      " 1\n",
      " 2\n",
      " 4\n",
      " 4\n",
      " 0\n",
      "[torch.LongTensor of size 6]\n",
      "\n",
      "Variable containing:\n",
      " 2.4663\n",
      "[torch.FloatTensor of size 1]\n",
      "\n",
      "2.466275\n"
     ]
    }
   ],
   "source": [
    "torch.manual_seed(777)\n",
    "scores = Variable(torch.randn(6,5))\n",
    "targets = Variable(torch.LongTensor([0, 1, 2, 4, 4, 0]))\n",
    "f = nn.LogSoftmax()\n",
    "print(scores)\n",
    "print(-f(scores))\n",
    "print(targets)\n",
    "loss = nn.CrossEntropyLoss(ignore_index=0)\n",
    "output = loss(scores, targets)\n",
    "print(output)\n",
    "print((2.4656+2.0703+2.2821+3.0471)/4)"
   ]
  },
  {
   "cell_type": "code",
   "execution_count": 3,
   "metadata": {
    "collapsed": false
   },
   "outputs": [
    {
     "name": "stdout",
     "output_type": "stream",
     "text": [
      "Variable containing:\n",
      " 0.8280  1.1807 -0.2163  0.6335  1.3155\n",
      " 0.5404 -0.7312  0.1884  0.6572 -1.1073\n",
      " 1.2333 -0.6090 -0.2421 -1.6629  0.2401\n",
      "-2.0566 -0.1193  0.9838 -0.5705 -0.7263\n",
      " 0.8247  0.5482  1.0635  0.5820 -0.8358\n",
      "-0.5276 -1.4687  2.2104  2.3313 -0.1632\n",
      "[torch.FloatTensor of size 6x5]\n",
      "\n",
      "Variable containing:\n",
      " 1.6537  1.3010  2.6980  1.8482  1.1662\n",
      " 1.1939  2.4656  1.5459  1.0771  2.8417\n",
      " 0.5948  2.4372  2.0703  3.4911  1.5881\n",
      " 3.6124  1.6751  0.5720  2.1263  2.2821\n",
      " 1.3870  1.6635  1.1481  1.6297  3.0474\n",
      " 3.5759  4.5170  0.8379  0.7171  3.2115\n",
      "[torch.FloatTensor of size 6x5]\n",
      "\n",
      "Variable containing:\n",
      " 0\n",
      " 1\n",
      " 2\n",
      " 4\n",
      " 4\n",
      "-1\n",
      "[torch.LongTensor of size 6]\n",
      "\n",
      "Variable containing:\n",
      " 2.3038\n",
      "[torch.FloatTensor of size 1]\n",
      "\n",
      "2.30376\n"
     ]
    }
   ],
   "source": [
    "torch.manual_seed(777)\n",
    "scores = Variable(torch.randn(6,5))\n",
    "targets = Variable(torch.LongTensor([0, 1, 2, 4, 4, -1]))\n",
    "f = nn.LogSoftmax()\n",
    "print(scores)\n",
    "print(-f(scores))\n",
    "print(targets)\n",
    "loss = nn.CrossEntropyLoss(ignore_index=-1)\n",
    "output = loss(scores, targets)\n",
    "print(output)\n",
    "print((1.6537+2.4656+2.0703+2.2821+3.0471)/5)"
   ]
  },
  {
   "cell_type": "code",
   "execution_count": null,
   "metadata": {
    "collapsed": true
   },
   "outputs": [],
   "source": []
  }
 ],
 "metadata": {
  "anaconda-cloud": {},
  "kernelspec": {
   "display_name": "Python [conda root]",
   "language": "python",
   "name": "conda-root-py"
  },
  "language_info": {
   "codemirror_mode": {
    "name": "ipython",
    "version": 3
   },
   "file_extension": ".py",
   "mimetype": "text/x-python",
   "name": "python",
   "nbconvert_exporter": "python",
   "pygments_lexer": "ipython3",
   "version": "3.5.2"
  }
 },
 "nbformat": 4,
 "nbformat_minor": 1
}
