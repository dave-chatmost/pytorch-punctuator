{
 "cells": [
  {
   "cell_type": "code",
   "execution_count": 1,
   "metadata": {
    "collapsed": true
   },
   "outputs": [],
   "source": [
    "%load_ext autoreload\n",
    "%autoreload 2\n",
    "import torch\n",
    "import torch.nn as nn\n",
    "from torch.autograd import Variable"
   ]
  },
  {
   "cell_type": "code",
   "execution_count": 2,
   "metadata": {
    "collapsed": false
   },
   "outputs": [
    {
     "name": "stdout",
     "output_type": "stream",
     "text": [
      "Variable containing:\n",
      " 1.6158  0.8960 -0.1270 -2.0291 -0.0355\n",
      " 0.4237  1.5678 -0.3374  0.9251  0.0850\n",
      " 0.2294 -0.1285 -0.6792 -0.4889  0.4059\n",
      " 0.0865  1.5505 -0.4299  0.6287  0.7334\n",
      "-0.3167  1.4675 -2.2543  3.7733  1.0765\n",
      "-0.3935  1.3280 -1.7634  0.6489  0.0092\n",
      "[torch.FloatTensor of size 6x5]\n",
      "\n",
      "Variable containing:\n",
      " 0\n",
      " 1\n",
      " 2\n",
      "-1\n",
      " 3\n",
      " 4\n",
      "[torch.LongTensor of size 6]\n",
      "\n",
      "Variable containing:\n",
      " 0\n",
      " 1\n",
      " 4\n",
      " 1\n",
      " 3\n",
      " 1\n",
      "[torch.LongTensor of size 6]\n",
      "\n",
      "Variable containing:\n",
      " 1\n",
      " 1\n",
      " 0\n",
      " 0\n",
      " 1\n",
      " 0\n",
      "[torch.ByteTensor of size 6]\n",
      "\n"
     ]
    }
   ],
   "source": [
    "torch.manual_seed(12)\n",
    "scores = Variable(torch.FloatTensor([\n",
    " [1.6158,  0.8960, -0.1270, -2.0291, -0.0355],\n",
    " [0.4237, 1.5678, -0.3374,  0.9251,  0.0850],\n",
    " [0.2294, -0.1285,  -0.6792, -0.4889,  0.4059],\n",
    " [0.0865,  1.5505, -0.4299,  0.6287,  0.7334],\n",
    " [-0.3167,  1.4675, -2.2543, 3.7733,  1.0765],\n",
    " [-0.3935, 1.3280, -1.7634,  0.6489,  0.0092]]))\n",
    "labels = Variable(torch.LongTensor([0, 1, 2, -1, 3, 4]))\n",
    "_, predict = torch.max(scores, 1)\n",
    "print(scores)\n",
    "print(labels)\n",
    "print(predict)\n",
    "print(labels == predict)"
   ]
  },
  {
   "cell_type": "code",
   "execution_count": null,
   "metadata": {
    "collapsed": true
   },
   "outputs": [],
   "source": []
  }
 ],
 "metadata": {
  "anaconda-cloud": {},
  "kernelspec": {
   "display_name": "Python [conda root]",
   "language": "python",
   "name": "conda-root-py"
  },
  "language_info": {
   "codemirror_mode": {
    "name": "ipython",
    "version": 3
   },
   "file_extension": ".py",
   "mimetype": "text/x-python",
   "name": "python",
   "nbconvert_exporter": "python",
   "pygments_lexer": "ipython3",
   "version": "3.5.2"
  }
 },
 "nbformat": 4,
 "nbformat_minor": 1
}
